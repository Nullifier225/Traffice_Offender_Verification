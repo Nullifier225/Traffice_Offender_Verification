{
 "cells": [
  {
   "cell_type": "code",
   "execution_count": null,
   "metadata": {},
   "outputs": [],
   "source": [
    "import os\n",
    "from versign import VerSign\n",
    "\n",
    "\n",
    "# Load training data\n",
    "train_data = '.\\\\registered\\\\001'\n",
    "x_train = [os.path.join(train_data, f) for f in sorted(os.listdir(train_data))]\n",
    "\n",
    "# Load test data and labels\n",
    "test_data = '.\\\\sample\\\\001'\n",
    "x_test = [os.path.join(test_data, f) for f in sorted(os.listdir(test_data))]\n",
    "\n",
    "# Train a writer-dependent model from training data\n",
    "v = VerSign('models/signet.pth', (150, 220))\n",
    "v.fit(x_train)\n",
    "\n",
    "# Predict labels of test data\n",
    "y_pred = v.predict(x_test)"
   ]
  }
 ],
 "metadata": {
  "kernelspec": {
   "display_name": "Python 3",
   "language": "python",
   "name": "python3"
  },
  "language_info": {
   "codemirror_mode": {
    "name": "ipython",
    "version": 3
   },
   "file_extension": ".py",
   "mimetype": "text/x-python",
   "name": "python",
   "nbconvert_exporter": "python",
   "pygments_lexer": "ipython3",
   "version": "3.7.3"
  }
 },
 "nbformat": 4,
 "nbformat_minor": 2
}
